{
 "cells": [
  {
   "cell_type": "code",
   "execution_count": 1,
   "metadata": {},
   "outputs": [],
   "source": [
    "import sys\n",
    "sys.path.append('../')\n",
    "import pandas as pd\n",
    "from sklearn.preprocessing import StandardScaler,MinMaxScaler\n",
    "import tensorflow.compat.v1 as tf \n",
    "tf.compat.v1.disable_eager_execution()\n",
    "\n",
    "from sklearn.preprocessing import LabelEncoder \n",
    "le  = LabelEncoder()\n",
    "std = MinMaxScaler()\n",
    "#std = StandardScaler()\n",
    "\n",
    "df=pd.read_csv('../datasets/default_raw/Default_credit.csv')\n",
    "df=df.drop(columns=['ID'])\n",
    "\n",
    "for column in ['SEX', 'EDUCATION', 'MARRIAGE', 'PAY_0', 'PAY_2', 'PAY_3', 'PAY_4', 'PAY_5', 'PAY_6' ]:\n",
    "    df[column]=le.fit_transform(df[column])\n",
    "import numpy as np\n",
    "df['AGE']=np.clip(df['AGE']/10, 1,9).astype('int')\n",
    "# df['LIMIT_BAL']=(df['LIMIT_BAL']/10000).astype('int')\n",
    "# df['BILL_AMT1']=(df['BILL_AMT1']/10000).astype('int')\n",
    "# df['BILL_AMT2']=(df['BILL_AMT2']/10000).astype('int')\n",
    "# df['BILL_AMT3']=(df['BILL_AMT3']/10000).astype('int')\n",
    "# df['BILL_AMT4']=(df['BILL_AMT4']/10000).astype('int')\n",
    "# df['BILL_AMT5']=(df['BILL_AMT5']/10000).astype('int')\n",
    "# df['BILL_AMT6']=(df['BILL_AMT6']/10000).astype('int')\n",
    "# df['PAY_AMT1']=(df['PAY_AMT1']/10000).astype('int')\n",
    "# df['PAY_AMT2']=(df['PAY_AMT2']/10000).astype('int')\n",
    "# df['PAY_AMT3']=(df['PAY_AMT3']/10000).astype('int')\n",
    "# df['PAY_AMT4']=(df['PAY_AMT4']/10000).astype('int')\n",
    "# df['PAY_AMT5']=(df['PAY_AMT5']/10000).astype('int')\n",
    "# df['PAY_AMT6']=(df['PAY_AMT6']/10000).astype('int')\n",
    "\n",
    "\n",
    "df[['LIMIT_BAL','BILL_AMT1','BILL_AMT2','BILL_AMT3','BILL_AMT4',\n",
    "'BILL_AMT5','BILL_AMT6','PAY_AMT1','PAY_AMT2','PAY_AMT3','PAY_AMT4',\n",
    "'PAY_AMT5','PAY_AMT6']]= std.fit_transform(df[['LIMIT_BAL','BILL_AMT1','BILL_AMT2','BILL_AMT3','BILL_AMT4',\n",
    "                                                  'BILL_AMT5','BILL_AMT6','PAY_AMT1','PAY_AMT2','PAY_AMT3','PAY_AMT4',\n",
    "                                                  'PAY_AMT5','PAY_AMT6']])\n",
    "df[['LIMIT_BAL','BILL_AMT1','BILL_AMT2','BILL_AMT3','BILL_AMT4',\n",
    "'BILL_AMT5','BILL_AMT6']]=(df[['LIMIT_BAL','BILL_AMT1','BILL_AMT2','BILL_AMT3','BILL_AMT4',\n",
    "'BILL_AMT5','BILL_AMT6']]*100).astype(int)\n",
    "\n",
    "df[['PAY_AMT1','PAY_AMT2','PAY_AMT3','PAY_AMT4','PAY_AMT5','PAY_AMT6']]=\\\n",
    "(df[['PAY_AMT1','PAY_AMT2','PAY_AMT3','PAY_AMT4','PAY_AMT5','PAY_AMT6']]*100).astype(int)\n",
    "\n",
    "df.to_csv('../datasets/Default_credit_clean.csv',index=False)\n",
    "bound_dic={}\n",
    "for col in df.columns:\n",
    "    bound_dic[\"input_bound_{0}\".format(col)] = [df[col].min(),df[col].max()]"
   ]
  }
 ],
 "metadata": {
  "kernelspec": {
   "display_name": "Python 3",
   "language": "python",
   "name": "python3"
  },
  "language_info": {
   "codemirror_mode": {
    "name": "ipython",
    "version": 3
   },
   "file_extension": ".py",
   "mimetype": "text/x-python",
   "name": "python",
   "nbconvert_exporter": "python",
   "pygments_lexer": "ipython3",
   "version": "3.8.10"
  }
 },
 "nbformat": 4,
 "nbformat_minor": 4
}
