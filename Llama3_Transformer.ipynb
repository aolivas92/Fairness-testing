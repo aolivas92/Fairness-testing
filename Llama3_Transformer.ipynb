{
 "cells": [
  {
   "cell_type": "code",
   "execution_count": 2,
   "id": "7fdd02f9",
   "metadata": {
    "scrolled": false
   },
   "outputs": [
    {
     "name": "stdout",
     "output_type": "stream",
     "text": [
      "Token has not been saved to git credential helper. Pass `add_to_git_credential=True` if you want to set the git credential as well.\n",
      "Token is valid (permission: read).\n",
      "Your token has been saved to /home/vmonjezi/.cache/huggingface/token\n",
      "Login successful\n"
     ]
    },
    {
     "name": "stderr",
     "output_type": "stream",
     "text": [
      "2024-05-07 20:34:36.252353: I tensorflow/core/platform/cpu_feature_guard.cc:182] This TensorFlow binary is optimized to use available CPU instructions in performance-critical operations.\n",
      "To enable the following instructions: AVX2 FMA, in other operations, rebuild TensorFlow with the appropriate compiler flags.\n",
      "2024-05-07 20:34:37.214961: W tensorflow/compiler/tf2tensorrt/utils/py_utils.cc:38] TF-TRT Warning: Could not find TensorRT\n"
     ]
    },
    {
     "data": {
      "application/vnd.jupyter.widget-view+json": {
       "model_id": "22b39aac64944e02ae40b97181e855d1",
       "version_major": 2,
       "version_minor": 0
      },
      "text/plain": [
       "Downloading shards:   0%|          | 0/4 [00:00<?, ?it/s]"
      ]
     },
     "metadata": {},
     "output_type": "display_data"
    },
    {
     "name": "stderr",
     "output_type": "stream",
     "text": [
      "/home/vmonjezi/.virtualenvs/RISC_LAB/lib/python3.8/site-packages/torch/cuda/__init__.py:138: UserWarning: CUDA initialization: Unexpected error from cudaGetDeviceCount(). Did you run some cuda functions before calling NumCudaDevices() that might have already set an error? Error 804: forward compatibility was attempted on non supported HW (Triggered internally at ../c10/cuda/CUDAFunctions.cpp:108.)\n",
      "  return torch._C._cuda_getDeviceCount() > 0\n",
      "/home/vmonjezi/.virtualenvs/RISC_LAB/lib/python3.8/site-packages/torch/cuda/__init__.py:611: UserWarning: Can't initialize NVML\n",
      "  warnings.warn(\"Can't initialize NVML\")\n"
     ]
    },
    {
     "data": {
      "application/vnd.jupyter.widget-view+json": {
       "model_id": "4a073b4df9404fe682f527063ea38c42",
       "version_major": 2,
       "version_minor": 0
      },
      "text/plain": [
       "Loading checkpoint shards:   0%|          | 0/4 [00:00<?, ?it/s]"
      ]
     },
     "metadata": {},
     "output_type": "display_data"
    },
    {
     "data": {
      "application/vnd.jupyter.widget-view+json": {
       "model_id": "36efa8a49fee47ac8eb7d19012524755",
       "version_major": 2,
       "version_minor": 0
      },
      "text/plain": [
       "generation_config.json:   0%|          | 0.00/187 [00:00<?, ?B/s]"
      ]
     },
     "metadata": {},
     "output_type": "display_data"
    },
    {
     "name": "stderr",
     "output_type": "stream",
     "text": [
      "Special tokens have been added in the vocabulary, make sure the associated word embeddings are fine-tuned or trained.\n"
     ]
    }
   ],
   "source": [
    "from transformers import file_utils\n",
    "# print(file_utils.default_cache_path)\n",
    "# import os\n",
    "# os.environ['PYTORCH_CUDA_ALLOC_CONF'] = 'garbage_collection_threshold:0.6,max_split_size_mb:512'\n",
    "import transformers\n",
    "import torch\n",
    "from huggingface_hub import login\n",
    "login(token = '')\n",
    "\n",
    "\n",
    "model_id = \"meta-llama/Meta-Llama-3-8B-instruct\"\n",
    "\n",
    "# Create a text generation pipeline that uses the model above.\n",
    "pipeline = transformers.pipeline(\n",
    "    \"text-generation\",\n",
    "    model=model_id,\n",
    "    model_kwargs={\"torch_dtype\": torch.bfloat16},\n",
    "    device_map=\"auto\",pad_token_id = 50256\n",
    ")\n",
    "\n",
    "\n"
   ]
  },
  {
   "cell_type": "code",
   "execution_count": 18,
   "id": "4f891bf3",
   "metadata": {},
   "outputs": [
    {
     "name": "stdout",
     "output_type": "stream",
     "text": [
      "Male, 41, income 70K\n"
     ]
    }
   ],
   "source": [
    "messages = [\n",
    "#     {\"role\": \"system\", \"content\": \"A definition for a counterfactual of an individual. Who among us has never wondered \\\n",
    "#      about what might have been had some past choice been different? With perhaps a little more effort, you might have \\\n",
    "#      been an athlete, a doctor, maybe even a rock star. Who among us has never regretted choices made and actions taken? \\\n",
    "#      Maybe you should have studied harder in school, traveled more when you had the chance, or had the salmon for lunch \\\n",
    "#      instead of the pasta. And who has never pondered a lost love and imagined how passionate it might have been? \\\n",
    "#      Thinking about what might have been, about alternatives to our own pasts, is central to human thinking and emotion.\\\n",
    "#      Such thoughts are called counterfactual thoughts.\\\n",
    "#      Consider that mwn an women have different distribution of features. For example \\\n",
    "#      a 140K income for men would be a different value for women as women have less income in average. So consider this \\\n",
    "#      when imagining the counterfacual.\\\n",
    "#      In reality, the gender pay gap is complex and influenced by\\\n",
    "#      many factors, including systemic biases, discrimination, and differences in career choices and opportunities. But use \\\n",
    "#      your knowledge of the internet to estimate the gap for different features!\\\n",
    "#      So you are a counterfacual estimater. I will provide some features and then\\\n",
    "#     you just estimate the counterfacual considering the gaps for diffrent features. Do not provide any reasoning.\\\n",
    "#     Just give the features of the counterfactual the same way \\\n",
    "#      I provide the real-world individual features.\"},\n",
    "    \n",
    "    # Telling the model how to behave and how to respond to the user when given information.\n",
    "    # Describing it's main purpose without much detail on how it got it's conclusion.\n",
    "    {\"role\": \"system\", \"content\": \" you are a counterfacual estimator of the individual that user gives. \\\n",
    "    The user provides the features of the real-world individual. Then you estimate the counterpart based on\\\n",
    "    the requested feature like sex, race, age, and etc. do not provide any explanation on how you estimate, \\\n",
    "    just give the features of the counterpart same as the provided features by the user.\" },\n",
    "\n",
    "    # User requesting counterfactual estimates.\n",
    "    {\"role\": \"user\", \"content\":\"I am Male, 42, income 80K. what would be my 41 years old counterfactual?\"},\n",
    "    \n",
    "]\n",
    "\n",
    "# torch.cuda.empty_cache()\n",
    "# import gc\n",
    "\n",
    "# gc.collect()\n",
    "# import os\n",
    "# os.environ['PYTORCH_CUDA_ALLOC_CONF'] = 'garbage_collection_threshold:0.6,max_split_size_mb:32'\n",
    "\n",
    "# Converts the conversation in messages into a single text prompt to give to the llm\n",
    "prompt = pipeline.tokenizer.apply_chat_template(\n",
    "        messages, \n",
    "        tokenize=False, \n",
    "        add_generation_prompt=True\n",
    ")\n",
    "\n",
    "terminators = [\n",
    "    pipeline.tokenizer.eos_token_id,\n",
    "    pipeline.tokenizer.convert_tokens_to_ids(\"<|eot_id|>\")\n",
    "]\n",
    "\n",
    "# Generates the prompts response.\n",
    "outputs = pipeline(\n",
    "    prompt,\n",
    "    max_new_tokens=512,\n",
    "    eos_token_id=terminators,\n",
    "    do_sample=True,\n",
    "    temperature=0.1,\n",
    "    top_p=0.99,\n",
    ")\n",
    "print(outputs[0][\"generated_text\"][len(prompt):])\n"
   ]
  },
  {
   "cell_type": "code",
   "execution_count": 1,
   "id": "efdcdb31",
   "metadata": {},
   "outputs": [
    {
     "name": "stdout",
     "output_type": "stream",
     "text": [
      "Collecting code-bert-score\n",
      "  Downloading code_bert_score-0.4.1.tar.gz (20 kB)\n",
      "  Preparing metadata (setup.py) ... \u001b[?25ldone\n",
      "\u001b[?25hRequirement already satisfied: torch>=1.0.0 in /home/vmonjezi/.virtualenvs/RISC_LAB/lib/python3.8/site-packages (from code-bert-score) (2.1.2)\n",
      "Requirement already satisfied: numpy in /home/vmonjezi/.virtualenvs/RISC_LAB/lib/python3.8/site-packages (from code-bert-score) (1.23.5)\n",
      "Requirement already satisfied: pandas>=1.0.1 in /home/vmonjezi/.virtualenvs/RISC_LAB/lib/python3.8/site-packages (from code-bert-score) (1.5.3)\n",
      "Requirement already satisfied: requests in /home/vmonjezi/.virtualenvs/RISC_LAB/lib/python3.8/site-packages (from code-bert-score) (2.31.0)\n",
      "Requirement already satisfied: tqdm>=4.31.1 in /home/vmonjezi/.virtualenvs/RISC_LAB/lib/python3.8/site-packages (from code-bert-score) (4.65.0)\n",
      "Requirement already satisfied: matplotlib in /home/vmonjezi/.virtualenvs/RISC_LAB/lib/python3.8/site-packages (from code-bert-score) (3.7.1)\n",
      "Requirement already satisfied: transformers>=3.0.0 in /home/vmonjezi/.virtualenvs/RISC_LAB/lib/python3.8/site-packages (from code-bert-score) (4.40.0)\n",
      "Requirement already satisfied: python-dateutil>=2.8.1 in /home/vmonjezi/.virtualenvs/RISC_LAB/lib/python3.8/site-packages (from pandas>=1.0.1->code-bert-score) (2.8.2)\n",
      "Requirement already satisfied: pytz>=2020.1 in /home/vmonjezi/.virtualenvs/RISC_LAB/lib/python3.8/site-packages (from pandas>=1.0.1->code-bert-score) (2023.3)\n",
      "Requirement already satisfied: filelock in /home/vmonjezi/.virtualenvs/RISC_LAB/lib/python3.8/site-packages (from torch>=1.0.0->code-bert-score) (3.12.0)\n",
      "Requirement already satisfied: typing-extensions in /home/vmonjezi/.virtualenvs/RISC_LAB/lib/python3.8/site-packages (from torch>=1.0.0->code-bert-score) (4.6.0)\n",
      "Requirement already satisfied: sympy in /home/vmonjezi/.virtualenvs/RISC_LAB/lib/python3.8/site-packages (from torch>=1.0.0->code-bert-score) (1.12)\n",
      "Requirement already satisfied: networkx in /home/vmonjezi/.virtualenvs/RISC_LAB/lib/python3.8/site-packages (from torch>=1.0.0->code-bert-score) (3.1)\n",
      "Requirement already satisfied: jinja2 in /home/vmonjezi/.virtualenvs/RISC_LAB/lib/python3.8/site-packages (from torch>=1.0.0->code-bert-score) (3.1.2)\n",
      "Requirement already satisfied: fsspec in /home/vmonjezi/.virtualenvs/RISC_LAB/lib/python3.8/site-packages (from torch>=1.0.0->code-bert-score) (2023.12.2)\n",
      "Requirement already satisfied: nvidia-cuda-nvrtc-cu12==12.1.105 in /home/vmonjezi/.virtualenvs/RISC_LAB/lib/python3.8/site-packages (from torch>=1.0.0->code-bert-score) (12.1.105)\n",
      "Requirement already satisfied: nvidia-cuda-runtime-cu12==12.1.105 in /home/vmonjezi/.virtualenvs/RISC_LAB/lib/python3.8/site-packages (from torch>=1.0.0->code-bert-score) (12.1.105)\n",
      "Requirement already satisfied: nvidia-cuda-cupti-cu12==12.1.105 in /home/vmonjezi/.virtualenvs/RISC_LAB/lib/python3.8/site-packages (from torch>=1.0.0->code-bert-score) (12.1.105)\n",
      "Requirement already satisfied: nvidia-cudnn-cu12==8.9.2.26 in /home/vmonjezi/.virtualenvs/RISC_LAB/lib/python3.8/site-packages (from torch>=1.0.0->code-bert-score) (8.9.2.26)\n",
      "Requirement already satisfied: nvidia-cublas-cu12==12.1.3.1 in /home/vmonjezi/.virtualenvs/RISC_LAB/lib/python3.8/site-packages (from torch>=1.0.0->code-bert-score) (12.1.3.1)\n",
      "Requirement already satisfied: nvidia-cufft-cu12==11.0.2.54 in /home/vmonjezi/.virtualenvs/RISC_LAB/lib/python3.8/site-packages (from torch>=1.0.0->code-bert-score) (11.0.2.54)\n",
      "Requirement already satisfied: nvidia-curand-cu12==10.3.2.106 in /home/vmonjezi/.virtualenvs/RISC_LAB/lib/python3.8/site-packages (from torch>=1.0.0->code-bert-score) (10.3.2.106)\n",
      "Requirement already satisfied: nvidia-cusolver-cu12==11.4.5.107 in /home/vmonjezi/.virtualenvs/RISC_LAB/lib/python3.8/site-packages (from torch>=1.0.0->code-bert-score) (11.4.5.107)\n",
      "Requirement already satisfied: nvidia-cusparse-cu12==12.1.0.106 in /home/vmonjezi/.virtualenvs/RISC_LAB/lib/python3.8/site-packages (from torch>=1.0.0->code-bert-score) (12.1.0.106)\n",
      "Requirement already satisfied: nvidia-nccl-cu12==2.18.1 in /home/vmonjezi/.virtualenvs/RISC_LAB/lib/python3.8/site-packages (from torch>=1.0.0->code-bert-score) (2.18.1)\n",
      "Requirement already satisfied: nvidia-nvtx-cu12==12.1.105 in /home/vmonjezi/.virtualenvs/RISC_LAB/lib/python3.8/site-packages (from torch>=1.0.0->code-bert-score) (12.1.105)\n",
      "Requirement already satisfied: triton==2.1.0 in /home/vmonjezi/.virtualenvs/RISC_LAB/lib/python3.8/site-packages (from torch>=1.0.0->code-bert-score) (2.1.0)\n",
      "Requirement already satisfied: nvidia-nvjitlink-cu12 in /home/vmonjezi/.virtualenvs/RISC_LAB/lib/python3.8/site-packages (from nvidia-cusolver-cu12==11.4.5.107->torch>=1.0.0->code-bert-score) (12.3.101)\n",
      "Requirement already satisfied: huggingface-hub<1.0,>=0.19.3 in /home/vmonjezi/.virtualenvs/RISC_LAB/lib/python3.8/site-packages (from transformers>=3.0.0->code-bert-score) (0.22.2)\n",
      "Requirement already satisfied: packaging>=20.0 in /home/vmonjezi/.virtualenvs/RISC_LAB/lib/python3.8/site-packages (from transformers>=3.0.0->code-bert-score) (23.1)\n",
      "Requirement already satisfied: pyyaml>=5.1 in /home/vmonjezi/.virtualenvs/RISC_LAB/lib/python3.8/site-packages (from transformers>=3.0.0->code-bert-score) (6.0)\n",
      "Requirement already satisfied: regex!=2019.12.17 in /home/vmonjezi/.virtualenvs/RISC_LAB/lib/python3.8/site-packages (from transformers>=3.0.0->code-bert-score) (2024.4.16)\n",
      "Requirement already satisfied: tokenizers<0.20,>=0.19 in /home/vmonjezi/.virtualenvs/RISC_LAB/lib/python3.8/site-packages (from transformers>=3.0.0->code-bert-score) (0.19.1)\n",
      "Requirement already satisfied: safetensors>=0.4.1 in /home/vmonjezi/.virtualenvs/RISC_LAB/lib/python3.8/site-packages (from transformers>=3.0.0->code-bert-score) (0.4.3)\n",
      "Requirement already satisfied: contourpy>=1.0.1 in /home/vmonjezi/.virtualenvs/RISC_LAB/lib/python3.8/site-packages (from matplotlib->code-bert-score) (1.0.7)\n",
      "Requirement already satisfied: cycler>=0.10 in /home/vmonjezi/.virtualenvs/RISC_LAB/lib/python3.8/site-packages (from matplotlib->code-bert-score) (0.11.0)\n",
      "Requirement already satisfied: fonttools>=4.22.0 in /home/vmonjezi/.virtualenvs/RISC_LAB/lib/python3.8/site-packages (from matplotlib->code-bert-score) (4.39.4)\n",
      "Requirement already satisfied: kiwisolver>=1.0.1 in /home/vmonjezi/.virtualenvs/RISC_LAB/lib/python3.8/site-packages (from matplotlib->code-bert-score) (1.4.4)\n",
      "Requirement already satisfied: pillow>=6.2.0 in /home/vmonjezi/.virtualenvs/RISC_LAB/lib/python3.8/site-packages (from matplotlib->code-bert-score) (9.5.0)\n",
      "Requirement already satisfied: pyparsing>=2.3.1 in /home/vmonjezi/.virtualenvs/RISC_LAB/lib/python3.8/site-packages (from matplotlib->code-bert-score) (3.0.9)\n",
      "Requirement already satisfied: importlib-resources>=3.2.0 in /home/vmonjezi/.virtualenvs/RISC_LAB/lib/python3.8/site-packages (from matplotlib->code-bert-score) (5.12.0)\n",
      "Requirement already satisfied: charset-normalizer<4,>=2 in /home/vmonjezi/.virtualenvs/RISC_LAB/lib/python3.8/site-packages (from requests->code-bert-score) (2.1.1)\n",
      "Requirement already satisfied: idna<4,>=2.5 in /home/vmonjezi/.virtualenvs/RISC_LAB/lib/python3.8/site-packages (from requests->code-bert-score) (3.4)\n",
      "Requirement already satisfied: urllib3<3,>=1.21.1 in /home/vmonjezi/.virtualenvs/RISC_LAB/lib/python3.8/site-packages (from requests->code-bert-score) (1.26.16)\n",
      "Requirement already satisfied: certifi>=2017.4.17 in /home/vmonjezi/.virtualenvs/RISC_LAB/lib/python3.8/site-packages (from requests->code-bert-score) (2023.5.7)\n",
      "Requirement already satisfied: zipp>=3.1.0 in /home/vmonjezi/.virtualenvs/RISC_LAB/lib/python3.8/site-packages (from importlib-resources>=3.2.0->matplotlib->code-bert-score) (3.15.0)\n",
      "Requirement already satisfied: six>=1.5 in /home/vmonjezi/.virtualenvs/RISC_LAB/lib/python3.8/site-packages (from python-dateutil>=2.8.1->pandas>=1.0.1->code-bert-score) (1.16.0)\n",
      "Requirement already satisfied: MarkupSafe>=2.0 in /home/vmonjezi/.virtualenvs/RISC_LAB/lib/python3.8/site-packages (from jinja2->torch>=1.0.0->code-bert-score) (2.1.2)\n",
      "Requirement already satisfied: mpmath>=0.19 in /home/vmonjezi/.virtualenvs/RISC_LAB/lib/python3.8/site-packages (from sympy->torch>=1.0.0->code-bert-score) (1.3.0)\n",
      "Building wheels for collected packages: code-bert-score\n",
      "  Building wheel for code-bert-score (setup.py) ... \u001b[?25ldone\n",
      "\u001b[?25h  Created wheel for code-bert-score: filename=code_bert_score-0.4.1-py3-none-any.whl size=22072 sha256=a7955d6e1b58644945d71e410554b311f8d5cca22f5b134f0c46ef8c300e7a85\n",
      "  Stored in directory: /home/vmonjezi/.cache/pip/wheels/3d/6a/61/fd0b91c781898d2199cc7183195a47fceffed45d443e6c8382\n",
      "Successfully built code-bert-score\n",
      "Installing collected packages: code-bert-score\n",
      "Successfully installed code-bert-score-0.4.1\n"
     ]
    }
   ],
   "source": [
    "!pip install code-bert-score"
   ]
  },
  {
   "cell_type": "code",
   "execution_count": null,
   "id": "4887ad86",
   "metadata": {},
   "outputs": [],
   "source": []
  },
  {
   "cell_type": "code",
   "execution_count": null,
   "id": "dac44352",
   "metadata": {},
   "outputs": [],
   "source": []
  }
 ],
 "metadata": {
  "kernelspec": {
   "display_name": "Python 3 (ipykernel)",
   "language": "python",
   "name": "python3"
  },
  "language_info": {
   "codemirror_mode": {
    "name": "ipython",
    "version": 3
   },
   "file_extension": ".py",
   "mimetype": "text/x-python",
   "name": "python",
   "nbconvert_exporter": "python",
   "pygments_lexer": "ipython3",
   "version": "3.11.4"
  }
 },
 "nbformat": 4,
 "nbformat_minor": 5
}
